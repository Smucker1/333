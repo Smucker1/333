{
  "nbformat": 4,
  "nbformat_minor": 0,
  "metadata": {
    "colab": {
      "provenance": [],
      "authorship_tag": "ABX9TyOx2dc+1b1vjvEfOQrGZMiD",
      "include_colab_link": true
    },
    "kernelspec": {
      "name": "python3",
      "display_name": "Python 3"
    },
    "language_info": {
      "name": "python"
    }
  },
  "cells": [
    {
      "cell_type": "markdown",
      "metadata": {
        "id": "view-in-github",
        "colab_type": "text"
      },
      "source": [
        "<a href=\"https://colab.research.google.com/github/Smucker1/333/blob/main/Untitled0.ipynb\" target=\"_parent\"><img src=\"https://colab.research.google.com/assets/colab-badge.svg\" alt=\"Open In Colab\"/></a>"
      ]
    },
    {
      "cell_type": "code",
      "execution_count": 1,
      "metadata": {
        "id": "BgGtZmtAzaTh"
      },
      "outputs": [],
      "source": [
        "import numpy as np\n",
        "from scipy import stats"
      ]
    },
    {
      "cell_type": "markdown",
      "source": [
        "Задание 1.\n",
        "Провести дисперсионный анализ для определения того, есть ли различия среднего роста среди взрослых футболистов, хоккеистов и штангистов. Даны значения роста в трех группах случайно выбранных спортсменов:\n",
        "\n",
        "football_players = [173, 175, 180, 178, 177, 185, 183, 182]\n",
        "\n",
        "hockey_players = [177, 179, 180, 188, 177, 172, 171, 184, 180]\n",
        "\n",
        "lifters = [172, 173, 169, 177, 166, 180, 178, 177, 172, 166, 170]"
      ],
      "metadata": {
        "id": "ZTSkhnCazmk3"
      }
    },
    {
      "cell_type": "code",
      "source": [
        "fp = np.array([173, 175, 180, 178, 177, 185, 183, 182], dtype=np.float64)\n",
        "hp = np.array([177, 179, 180, 188, 177, 172, 171, 184, 180], dtype=np.float64)\n",
        "lf = np.array([172, 173, 169, 177, 166, 180, 178, 177, 172, 166, 170], dtype=np.float64)\n",
        "\n",
        "n1 = fp.shape[0]\n",
        "n2 = hp.shape[0]\n",
        "n3 = lf.shape[0]"
      ],
      "metadata": {
        "id": "gjHoweV5zog6"
      },
      "execution_count": 2,
      "outputs": []
    },
    {
      "cell_type": "code",
      "source": [
        "fp_mean = fp.mean()\n",
        "hp_mean = hp.mean()\n",
        "lf_mean = lf.mean()\n",
        "\n",
        "fp_mean, hp_mean, lf_mean"
      ],
      "metadata": {
        "colab": {
          "base_uri": "https://localhost:8080/"
        },
        "id": "XvMY--nuzp0s",
        "outputId": "8aab33c6-060c-40c0-f2e2-674ce63e2eac"
      },
      "execution_count": 3,
      "outputs": [
        {
          "output_type": "execute_result",
          "data": {
            "text/plain": [
              "(179.125, 178.66666666666666, 172.72727272727272)"
            ]
          },
          "metadata": {},
          "execution_count": 3
        }
      ]
    },
    {
      "cell_type": "markdown",
      "source": [
        "Средний рост хокеистов и футболистов отличаются не сильно. Проверим статистическую значимость всех отличий."
      ],
      "metadata": {
        "id": "Kl2umD-b0Z5u"
      }
    },
    {
      "cell_type": "code",
      "source": [
        "y = np.concatenate([fp, hp, lf])\n",
        "print(y)"
      ],
      "metadata": {
        "colab": {
          "base_uri": "https://localhost:8080/"
        },
        "id": "Or83nKpN0abm",
        "outputId": "a463213c-d308-4196-bec2-0edbb60f1b8e"
      },
      "execution_count": 5,
      "outputs": [
        {
          "output_type": "stream",
          "name": "stdout",
          "text": [
            "[173. 175. 180. 178. 177. 185. 183. 182. 177. 179. 180. 188. 177. 172.\n",
            " 171. 184. 180. 172. 173. 169. 177. 166. 180. 178. 177. 172. 166. 170.]\n"
          ]
        }
      ]
    },
    {
      "cell_type": "code",
      "source": [
        "y_mean = y.mean()\n",
        "y_mean"
      ],
      "metadata": {
        "colab": {
          "base_uri": "https://localhost:8080/"
        },
        "id": "bfxH8AkR0du6",
        "outputId": "fcac3a44-7f93-404c-f422-9a9f352a38ea"
      },
      "execution_count": 6,
      "outputs": [
        {
          "output_type": "execute_result",
          "data": {
            "text/plain": [
              "176.46428571428572"
            ]
          },
          "metadata": {},
          "execution_count": 6
        }
      ]
    },
    {
      "cell_type": "code",
      "source": [
        "S2_F = n1 * (fp_mean - y_mean) ** 2 + n2 * (hp_mean - y_mean) ** 2 + n3 * (lf_mean - y_mean) ** 2\n",
        "S2_res = ((fp - fp_mean) ** 2).sum() + ((hp - hp_mean) ** 2).sum() + ((lf - lf_mean) ** 2).sum()\n",
        "S2_F, S2_res"
      ],
      "metadata": {
        "colab": {
          "base_uri": "https://localhost:8080/"
        },
        "id": "lTvbGuxK0gQ5",
        "outputId": "00b3c627-ccf4-429d-f5ff-e81c9b8f99a6"
      },
      "execution_count": 7,
      "outputs": [
        {
          "output_type": "execute_result",
          "data": {
            "text/plain": [
              "(253.9074675324678, 577.0568181818182)"
            ]
          },
          "metadata": {},
          "execution_count": 7
        }
      ]
    },
    {
      "cell_type": "code",
      "source": [
        "S2_F + S2_res"
      ],
      "metadata": {
        "colab": {
          "base_uri": "https://localhost:8080/"
        },
        "id": "k8jj3lFd0lWV",
        "outputId": "cd48fb92-cddf-4892-ed3f-be42282df2ba"
      },
      "execution_count": 8,
      "outputs": [
        {
          "output_type": "execute_result",
          "data": {
            "text/plain": [
              "830.964285714286"
            ]
          },
          "metadata": {},
          "execution_count": 8
        }
      ]
    },
    {
      "cell_type": "markdown",
      "source": [
        "830.964285714286"
      ],
      "metadata": {
        "id": "Wwic9zDv0new"
      }
    },
    {
      "cell_type": "code",
      "source": [
        "((y - y_mean) ** 2).sum()"
      ],
      "metadata": {
        "colab": {
          "base_uri": "https://localhost:8080/"
        },
        "id": "sS1qUP5R0n0H",
        "outputId": "0c790136-ffd0-4c24-bcb3-573d918d49fa"
      },
      "execution_count": 9,
      "outputs": [
        {
          "output_type": "execute_result",
          "data": {
            "text/plain": [
              "830.9642857142854"
            ]
          },
          "metadata": {},
          "execution_count": 9
        }
      ]
    },
    {
      "cell_type": "markdown",
      "source": [
        "830.9642857142854\n",
        "Запишем оценки дисперсий:"
      ],
      "metadata": {
        "id": "8GSrS1490pFG"
      }
    },
    {
      "cell_type": "code",
      "source": [
        "k = 3\n",
        "n = n1 + n2 + n3\n",
        "\n",
        "k1 = k - 1\n",
        "k2 = n - k\n",
        "\n",
        "sigma2_F = S2_F / k1\n",
        "sigma2_res = S2_res / k2\n",
        "\n",
        "sigma2_F, sigma2_res"
      ],
      "metadata": {
        "colab": {
          "base_uri": "https://localhost:8080/"
        },
        "id": "EMf0i60x0qbX",
        "outputId": "d05a3c76-5053-4d21-f991-337cc1168bd8"
      },
      "execution_count": 10,
      "outputs": [
        {
          "output_type": "execute_result",
          "data": {
            "text/plain": [
              "(126.9537337662339, 23.08227272727273)"
            ]
          },
          "metadata": {},
          "execution_count": 10
        }
      ]
    },
    {
      "cell_type": "code",
      "source": [
        "T = sigma2_F / sigma2_res\n",
        "T"
      ],
      "metadata": {
        "colab": {
          "base_uri": "https://localhost:8080/"
        },
        "id": "WF49nDHM0tDv",
        "outputId": "fd196855-53b0-4170-ad96-0bef0d173352"
      },
      "execution_count": 11,
      "outputs": [
        {
          "output_type": "execute_result",
          "data": {
            "text/plain": [
              "5.500053450812598"
            ]
          },
          "metadata": {},
          "execution_count": 11
        }
      ]
    },
    {
      "cell_type": "code",
      "source": [
        "alpha = 0.05\n",
        "\n",
        "F_crit = stats.f.ppf(1 - alpha, k1, k2)\n",
        "F_crit"
      ],
      "metadata": {
        "colab": {
          "base_uri": "https://localhost:8080/"
        },
        "id": "9-r3yrsg0w0-",
        "outputId": "efac4f8e-bb6a-4dba-e941-cf413c96aed6"
      },
      "execution_count": 12,
      "outputs": [
        {
          "output_type": "execute_result",
          "data": {
            "text/plain": [
              "3.3851899614491687"
            ]
          },
          "metadata": {},
          "execution_count": 12
        }
      ]
    },
    {
      "cell_type": "markdown",
      "source": [
        "Отличие среднего роста футболистов, хокеистов и штангистов действительно является статистически значимым"
      ],
      "metadata": {
        "id": "sHLxbm310z0V"
      }
    }
  ]
}